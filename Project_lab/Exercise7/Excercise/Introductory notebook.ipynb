{
 "cells": [
  {
   "cell_type": "markdown",
   "metadata": {},
   "source": [
    "## Simulazione dell'ensemble canonico con Monte-Carlo"
   ]
  },
  {
   "cell_type": "markdown",
   "metadata": {},
   "source": [
    "In questo esercizio si sono simulate la dinamica e la termodinamica di un sistema di $108$ particelle nell'enesemble canonico (o NVT). Questo significa che si è campionata tramite l'algoritmo di Metropolis la distribuzione di probabilità di equilibrio, ovvero la distribuzione di Boltzmann, e si sono poi calcolati valori medi delle quantità fisiche di interesse.\n",
    "\n",
    "Prima di poter fare questo però, si è dovuto tenere conto di alcuni dettagli tecnici che potrebbero, se non controllati, alterare i risultati. In particolare si è dovuto garantire che:\n",
    "- il sistema fosse all'equilibrio $\\rightarrow$ considerare un'appropriata fase di equilibrazione\n",
    "- il passo $\\delta$ del Metropolis fosse tale da rirpodurre un'accettazione prossima al 50%\n",
    "\n",
    "Ciascuna delle 3 fasi simulate ha il suo comportamento specifico riguardo a questi due fatti, e lo studio di questo diverso comportamento ha portato alle seguenti scelte dei parametri:\n",
    "\n",
    "|Fase     |    Step MC di equilibrazione| $\\delta$ Metropolis\n",
    "|:--|:--  |:--  |\n",
    "|Solid|100|0.12|\n",
    "|Liquid|400|0.2|\n",
    "|Gas|200| $\\geq$ 5|\n",
    "\n",
    "In particolare  per il gas non si è riusciti ad abbassare l'accettazione sotto il 60%, anche aumentando il passo di molto. Il passo notevole del gas è dovuto all'alta rarefazione, che rende quasi equiprobabili configurazioni in cui le particelle si sono spostate di poco, e crea quindi la necessità di un passo grande per non avere acettazioni troppo alte. Dal valore di $5$ in poi, tuttavia, la scelta di $\\delta$ sembrava non influire più sulla probabilità di accetazione: questo potrebbe essere dovuto alla presenza di PBC nel sistema, che limitano la dimensione del passo.\n",
    "\n",
    "\n",
    "Andiamo ora quindi a vedere i risultati delle simulazioni.\n",
    "\n",
    "### Da dove partire\n",
    "\n",
    "Si consiglia di proseguire con il notebook \"Solid\" poichè contiene alcune osservazioni generali valide anche per le altre fasi."
   ]
  },
  {
   "cell_type": "code",
   "execution_count": null,
   "metadata": {},
   "outputs": [],
   "source": []
  }
 ],
 "metadata": {
  "kernelspec": {
   "display_name": "Python 3",
   "language": "python",
   "name": "python3"
  },
  "language_info": {
   "codemirror_mode": {
    "name": "ipython",
    "version": 3
   },
   "file_extension": ".py",
   "mimetype": "text/x-python",
   "name": "python",
   "nbconvert_exporter": "python",
   "pygments_lexer": "ipython3",
   "version": "3.6.7"
  }
 },
 "nbformat": 4,
 "nbformat_minor": 2
}
